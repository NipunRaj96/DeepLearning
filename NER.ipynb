{
  "nbformat": 4,
  "nbformat_minor": 0,
  "metadata": {
    "colab": {
      "provenance": [],
      "authorship_tag": "ABX9TyNd//pUlaA+bYqCsxfZ4WT5"
    },
    "kernelspec": {
      "name": "python3",
      "display_name": "Python 3"
    },
    "language_info": {
      "name": "python"
    }
  },
  "cells": [
    {
      "cell_type": "code",
      "source": [
        "import nltk\n",
        "nltk.download ('punkt')\n",
        "nltk.download('punkt_tab')\n",
        "from nltk.tokenize import word_tokenize\n",
        "from nltk.util import ngrams"
      ],
      "metadata": {
        "colab": {
          "base_uri": "https://localhost:8080/"
        },
        "id": "ko_j-9LWZK7O",
        "outputId": "d7b408e5-3013-4073-dbc2-4f29c6d9adc8"
      },
      "execution_count": 11,
      "outputs": [
        {
          "output_type": "stream",
          "name": "stderr",
          "text": [
            "[nltk_data] Downloading package punkt to /root/nltk_data...\n",
            "[nltk_data]   Package punkt is already up-to-date!\n",
            "[nltk_data] Downloading package punkt_tab to /root/nltk_data...\n",
            "[nltk_data]   Unzipping tokenizers/punkt_tab.zip.\n"
          ]
        }
      ]
    },
    {
      "cell_type": "code",
      "source": [
        "def tokenize_text(text):\n",
        " return word_tokenize (text)\n",
        "def generate_bigrams (tokens):\n",
        " return list (ngrams (tokens, 2))\n",
        "def generate_trigrams (tokens):\n",
        " return list (ngrams (tokens, 3))"
      ],
      "metadata": {
        "id": "Mp0V7cBzZZwa"
      },
      "execution_count": 12,
      "outputs": []
    },
    {
      "cell_type": "code",
      "source": [
        "text = \"I love to learn NLP.\"\n",
        "tokens = tokenize_text(text)\n",
        "bigrams = generate_bigrams(tokens)\n",
        "print (bigrams)"
      ],
      "metadata": {
        "colab": {
          "base_uri": "https://localhost:8080/"
        },
        "id": "JEPixPGwZoL3",
        "outputId": "e3604ed9-7405-4af2-f154-c744925cacbd"
      },
      "execution_count": 13,
      "outputs": [
        {
          "output_type": "stream",
          "name": "stdout",
          "text": [
            "[('I', 'love'), ('love', 'to'), ('to', 'learn'), ('learn', 'NLP'), ('NLP', '.')]\n"
          ]
        }
      ]
    },
    {
      "cell_type": "code",
      "source": [
        "sample_text = input(\"Enter a statement: \")\n",
        "sample_tokens = tokenize_text(sample_text)\n",
        "trigrams = generate_trigrams (sample_tokens)\n",
        "print (trigrams)"
      ],
      "metadata": {
        "colab": {
          "base_uri": "https://localhost:8080/"
        },
        "id": "tyr0T43DadBX",
        "outputId": "7c8ca69b-1ca2-4ae8-8657-145098947f9d"
      },
      "execution_count": 14,
      "outputs": [
        {
          "output_type": "stream",
          "name": "stdout",
          "text": [
            "Enter a statement: This is a test case\n",
            "[('This', 'is', 'a'), ('is', 'a', 'test'), ('a', 'test', 'case')]\n"
          ]
        }
      ]
    }
  ]
}