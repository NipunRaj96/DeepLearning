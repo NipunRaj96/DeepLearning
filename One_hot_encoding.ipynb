{
  "nbformat": 4,
  "nbformat_minor": 0,
  "metadata": {
    "colab": {
      "provenance": [],
      "authorship_tag": "ABX9TyN7Pj4AXmfbsL6yigy2xqot",
      "include_colab_link": true
    },
    "kernelspec": {
      "name": "python3",
      "display_name": "Python 3"
    },
    "language_info": {
      "name": "python"
    }
  },
  "cells": [
    {
      "cell_type": "markdown",
      "metadata": {
        "id": "view-in-github",
        "colab_type": "text"
      },
      "source": [
        "<a href=\"https://colab.research.google.com/github/NipunRaj96/DeepLearning/blob/main/One_hot_encoding.ipynb\" target=\"_parent\"><img src=\"https://colab.research.google.com/assets/colab-badge.svg\" alt=\"Open In Colab\"/></a>"
      ]
    },
    {
      "cell_type": "code",
      "execution_count": 10,
      "metadata": {
        "colab": {
          "base_uri": "https://localhost:8080/"
        },
        "id": "IH9X3bqe5igh",
        "outputId": "bff47492-68a0-4fc0-8fe3-2953071a0904"
      },
      "outputs": [
        {
          "output_type": "stream",
          "name": "stdout",
          "text": [
            "[[0. 0. 1.]\n",
            " [0. 1. 0.]\n",
            " [1. 0. 0.]]\n",
            "[[0. 0. 1.]\n",
            " [1. 0. 0.]\n",
            " [0. 1. 0.]]\n"
          ]
        }
      ],
      "source": [
        "from sklearn.preprocessing import OneHotEncoder\n",
        "import numpy as np\n",
        "#Creating Encoder\n",
        "enc=OneHotEncoder(handle_unknown='ignore')\n",
        "enc1=OneHotEncoder(handle_unknown='ignore')\n",
        "# Sample data\n",
        "X=[['Red'],['Green'],['Blue']] #change word length\n",
        "Y = [['good boy'],['boy bad'],['girl']]\n",
        "#fitting encoder to the data\n",
        "enc.fit(X)\n",
        "enc1.fit(Y)\n",
        "result = enc.transform(X).toarray()\n",
        "result1 = enc1.transform(Y).toarray()\n",
        "print(result)\n",
        "print(result1)"
      ]
    },
    {
      "cell_type": "code",
      "source": [
        "sentences = [\n",
        "    \"this is an example sentence\",\n",
        "    \"Here's another sentence for demo\",\n",
        "    \"and yet another one\"\n",
        "]\n",
        "words=[]\n",
        "for sentence in sentences:\n",
        "  words.extend(sentence.split())\n",
        "data = np.array(words).reshape(-1,1)\n",
        "\n",
        "encoder = OneHotEncoder(sparse_output=False,handle_unknown='ignore')\n",
        "encoded_data = encoder.fit_transform(data)\n",
        "print(encoded_data)\n",
        "print(encoder.categories_)\n",
        "\n",
        "# Create a copy of the array before reshaping to avoid modifying a read-only array\n",
        "data2 = np.array(np.unique(data)).reshape((-1,1)).copy()\n",
        "encoded_data2 = encoder.fit_transform(data2)\n",
        "print(encoded_data2)\n",
        "print(np.unique(data))"
      ],
      "metadata": {
        "colab": {
          "base_uri": "https://localhost:8080/"
        },
        "id": "EacDYGqx64P3",
        "outputId": "52f3df09-3b60-4d56-f843-227d78d0d636"
      },
      "execution_count": 14,
      "outputs": [
        {
          "output_type": "stream",
          "name": "stdout",
          "text": [
            "[[0. 0. 0. 0. 0. 0. 0. 0. 0. 0. 1. 0.]\n",
            " [0. 0. 0. 0. 0. 0. 0. 1. 0. 0. 0. 0.]\n",
            " [0. 1. 0. 0. 0. 0. 0. 0. 0. 0. 0. 0.]\n",
            " [0. 0. 0. 0. 0. 1. 0. 0. 0. 0. 0. 0.]\n",
            " [0. 0. 0. 0. 0. 0. 0. 0. 0. 1. 0. 0.]\n",
            " [1. 0. 0. 0. 0. 0. 0. 0. 0. 0. 0. 0.]\n",
            " [0. 0. 0. 1. 0. 0. 0. 0. 0. 0. 0. 0.]\n",
            " [0. 0. 0. 0. 0. 0. 0. 0. 0. 1. 0. 0.]\n",
            " [0. 0. 0. 0. 0. 0. 1. 0. 0. 0. 0. 0.]\n",
            " [0. 0. 0. 0. 1. 0. 0. 0. 0. 0. 0. 0.]\n",
            " [0. 0. 1. 0. 0. 0. 0. 0. 0. 0. 0. 0.]\n",
            " [0. 0. 0. 0. 0. 0. 0. 0. 0. 0. 0. 1.]\n",
            " [0. 0. 0. 1. 0. 0. 0. 0. 0. 0. 0. 0.]\n",
            " [0. 0. 0. 0. 0. 0. 0. 0. 1. 0. 0. 0.]]\n",
            "[array([\"Here's\", 'an', 'and', 'another', 'demo', 'example', 'for', 'is',\n",
            "       'one', 'sentence', 'this', 'yet'], dtype='<U8')]\n",
            "[[1. 0. 0. 0. 0. 0. 0. 0. 0. 0. 0. 0.]\n",
            " [0. 1. 0. 0. 0. 0. 0. 0. 0. 0. 0. 0.]\n",
            " [0. 0. 1. 0. 0. 0. 0. 0. 0. 0. 0. 0.]\n",
            " [0. 0. 0. 1. 0. 0. 0. 0. 0. 0. 0. 0.]\n",
            " [0. 0. 0. 0. 1. 0. 0. 0. 0. 0. 0. 0.]\n",
            " [0. 0. 0. 0. 0. 1. 0. 0. 0. 0. 0. 0.]\n",
            " [0. 0. 0. 0. 0. 0. 1. 0. 0. 0. 0. 0.]\n",
            " [0. 0. 0. 0. 0. 0. 0. 1. 0. 0. 0. 0.]\n",
            " [0. 0. 0. 0. 0. 0. 0. 0. 1. 0. 0. 0.]\n",
            " [0. 0. 0. 0. 0. 0. 0. 0. 0. 1. 0. 0.]\n",
            " [0. 0. 0. 0. 0. 0. 0. 0. 0. 0. 1. 0.]\n",
            " [0. 0. 0. 0. 0. 0. 0. 0. 0. 0. 0. 1.]]\n",
            "[\"Here's\" 'an' 'and' 'another' 'demo' 'example' 'for' 'is' 'one'\n",
            " 'sentence' 'this' 'yet']\n"
          ]
        }
      ]
    }
  ]
}