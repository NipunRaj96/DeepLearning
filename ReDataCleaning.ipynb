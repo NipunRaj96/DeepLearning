{
  "nbformat": 4,
  "nbformat_minor": 0,
  "metadata": {
    "colab": {
      "provenance": [],
      "authorship_tag": "ABX9TyNYEvQsetJ9PCfDszSdoQEF",
      "include_colab_link": true
    },
    "kernelspec": {
      "name": "python3",
      "display_name": "Python 3"
    },
    "language_info": {
      "name": "python"
    }
  },
  "cells": [
    {
      "cell_type": "markdown",
      "metadata": {
        "id": "view-in-github",
        "colab_type": "text"
      },
      "source": [
        "<a href=\"https://colab.research.google.com/github/NipunRaj96/DeepLearning/blob/main/ReDataCleaning.ipynb\" target=\"_parent\"><img src=\"https://colab.research.google.com/assets/colab-badge.svg\" alt=\"Open In Colab\"/></a>"
      ]
    },
    {
      "cell_type": "code",
      "source": [
        "import re\n",
        "import nltk\n",
        "from nltk.tokenize import word_tokenize, sent_tokenize\n",
        "from nltk.corpus import stopwords, words\n",
        "from nltk.stem import PorterStemmer, WordNetLemmatizer\n",
        "\n",
        "nltk.download('punkt_tab')\n",
        "nltk.download('punkt')\n",
        "nltk.download('stopwords')\n",
        "nltk.download('wordnet')\n",
        "nltk.download('words')\n",
        "valid_words = set(words.words())\n"
      ],
      "metadata": {
        "id": "DqInb6B6PCiu",
        "colab": {
          "base_uri": "https://localhost:8080/"
        },
        "outputId": "42a3b1c3-8b7b-4c1e-9c9b-5e026e44362b"
      },
      "execution_count": null,
      "outputs": [
        {
          "output_type": "stream",
          "name": "stderr",
          "text": [
            "[nltk_data] Downloading package punkt_tab to /root/nltk_data...\n",
            "[nltk_data]   Unzipping tokenizers/punkt_tab.zip.\n",
            "[nltk_data] Downloading package punkt to /root/nltk_data...\n",
            "[nltk_data]   Unzipping tokenizers/punkt.zip.\n",
            "[nltk_data] Downloading package stopwords to /root/nltk_data...\n",
            "[nltk_data]   Unzipping corpora/stopwords.zip.\n",
            "[nltk_data] Downloading package wordnet to /root/nltk_data...\n",
            "[nltk_data] Downloading package words to /root/nltk_data...\n",
            "[nltk_data]   Unzipping corpora/words.zip.\n"
          ]
        }
      ]
    },
    {
      "cell_type": "code",
      "source": [
        "text = \"\"\"Oh wow!!! 🤯 This moviieee...@nipunraj2004@gmail,com, https://galgotiasuniversity.edu.in it was, umm, like, TOTALLY amazingggg!! 🎬 But you know, it kinda dragged a bit, like... the first half was SO slow! 😴😴\n",
        "I mean, seriously?? Who even writes scripts libbbbbbbb;[plp[wqopdjalMKWFBDUWQBD;Q mxhttpas;'\\\\da\\dSBuabke that??!! 😤 Anyway, the second half tho... absolute FIRE 🔥🔥🔥! The cinematography - just stunning!! The actors??\n",
        "Phenomenal!! 🏆 But, uh, the story, ugh... weak plot, kinda cliché, you know? 😕 IDK, maybe it's just me, but I feel like they could've done so much better!!\n",
        " But yeah, overall, not too bad! 🤔👍 10/10 visuals, sfaur be ajneaibdadkqwdakdds ajsdjks. ajjawif  nipp hqweiuc  hqwiu h u e20428174827918u9.sda yakpsa5/10 story. Would I recommend? Ehh, maybe, if you love good visuals... but otherwise, meh! 🤷‍♀️\n",
        " #MovieReview #FilmCritic@@@@@@@ #MustWatchOrNot??\"\"\"\n"
      ],
      "metadata": {
        "id": "-qy9RZH7dSOw"
      },
      "execution_count": null,
      "outputs": []
    },
    {
      "cell_type": "code",
      "source": [
        "text_cleaned = re.sub(r'[^a-zA-Z0-9\\s\\n]', '', text)\n",
        "text_cleaned = re.sub(r'(.)\\1{2,}', r'\\1\\1', text_cleaned)\n",
        "text_cleaned = re.sub(r'\\s+', ' ', text_cleaned).strip()\n",
        "text_cleaned = ' '.join(word for word in text_cleaned.split() if word.lower() in valid_words or len(word) <= 2)\n",
        "text_cleaned"
      ],
      "metadata": {
        "colab": {
          "base_uri": "https://localhost:8080/",
          "height": 89
        },
        "id": "xBctAUd9f53e",
        "outputId": "1d721e6c-eea2-4c8a-a5e5-93a0844f83bd"
      },
      "execution_count": null,
      "outputs": [
        {
          "output_type": "execute_result",
          "data": {
            "text/plain": [
              "'Oh wow This it was like TOTALLY But you know it dragged a bit like the first half was SO slow I mean seriously Who even that Anyway the second half tho absolute FIRE The cinematography just stunning The Phenomenal But uh the story ugh weak plot you know maybe its just me but I feel like they done so much better But yeah overall not too bad bey h u story Would I recommend maybe if you love good but otherwise'"
            ],
            "application/vnd.google.colaboratory.intrinsic+json": {
              "type": "string"
            }
          },
          "metadata": {},
          "execution_count": 3
        }
      ]
    },
    {
      "cell_type": "code",
      "source": [
        "text_cleaned=text_cleaned.lower().strip()"
      ],
      "metadata": {
        "id": "V7osAtU9hYRD"
      },
      "execution_count": null,
      "outputs": []
    },
    {
      "cell_type": "code",
      "source": [
        "word_tokens=word_tokenize(text_cleaned)"
      ],
      "metadata": {
        "id": "-tswzK6ShyqV"
      },
      "execution_count": null,
      "outputs": []
    },
    {
      "cell_type": "code",
      "source": [
        "sent_tokens=sent_tokenize(text_cleaned)"
      ],
      "metadata": {
        "id": "V4yD9H0TihJE"
      },
      "execution_count": null,
      "outputs": []
    },
    {
      "cell_type": "code",
      "source": [
        "stop_words=set(stopwords.words('english'))\n",
        "filtered_words = [word for word in word_tokens if word not in stop_words]"
      ],
      "metadata": {
        "id": "QWDYibdKimMf"
      },
      "execution_count": null,
      "outputs": []
    },
    {
      "cell_type": "code",
      "source": [
        "stemmer = PorterStemmer()\n",
        "lemmatizer = WordNetLemmatizer()\n",
        "stemmed_words = [stemmer.stem(word) for word in filtered_words]\n",
        "lemmatized_words=[lemmatizer.lemmatize(word) for word in filtered_words]"
      ],
      "metadata": {
        "id": "kzE4HH6Qi0n8"
      },
      "execution_count": null,
      "outputs": []
    },
    {
      "cell_type": "code",
      "source": [
        "print(\"Cleaned Text:\\n\",text_cleaned)\n",
        "print(\"\\nWord Tokens:\\n\",word_tokens)\n",
        "print(\"\\nSentence Tokens:\\n\",sent_tokens)\n",
        "print(\"\\nFiltered Words:\\n\",filtered_words)\n",
        "print(\"\\nStemmed Words:\\n\",stemmed_words)\n",
        "print(\"\\nLemmatized Words:\\n\",lemmatized_words)"
      ],
      "metadata": {
        "colab": {
          "base_uri": "https://localhost:8080/"
        },
        "id": "37juhHfWjoby",
        "outputId": "2f27b370-06fa-415f-baad-abfcbfb72cc7"
      },
      "execution_count": null,
      "outputs": [
        {
          "output_type": "stream",
          "name": "stdout",
          "text": [
            "Cleaned Text:\n",
            " oh wow this it was like totally but you know it dragged a bit like the first half was so slow i mean seriously who even that anyway the second half tho absolute fire the cinematography just stunning the phenomenal but uh the story ugh weak plot you know maybe its just me but i feel like they done so much better but yeah overall not too bad bey h u story would i recommend maybe if you love good but otherwise\n",
            "\n",
            "Word Tokens:\n",
            " ['oh', 'wow', 'this', 'it', 'was', 'like', 'totally', 'but', 'you', 'know', 'it', 'dragged', 'a', 'bit', 'like', 'the', 'first', 'half', 'was', 'so', 'slow', 'i', 'mean', 'seriously', 'who', 'even', 'that', 'anyway', 'the', 'second', 'half', 'tho', 'absolute', 'fire', 'the', 'cinematography', 'just', 'stunning', 'the', 'phenomenal', 'but', 'uh', 'the', 'story', 'ugh', 'weak', 'plot', 'you', 'know', 'maybe', 'its', 'just', 'me', 'but', 'i', 'feel', 'like', 'they', 'done', 'so', 'much', 'better', 'but', 'yeah', 'overall', 'not', 'too', 'bad', 'bey', 'h', 'u', 'story', 'would', 'i', 'recommend', 'maybe', 'if', 'you', 'love', 'good', 'but', 'otherwise']\n",
            "\n",
            "Sentence Tokens:\n",
            " ['oh wow this it was like totally but you know it dragged a bit like the first half was so slow i mean seriously who even that anyway the second half tho absolute fire the cinematography just stunning the phenomenal but uh the story ugh weak plot you know maybe its just me but i feel like they done so much better but yeah overall not too bad bey h u story would i recommend maybe if you love good but otherwise']\n",
            "\n",
            "Filtered Words:\n",
            " ['oh', 'wow', 'like', 'totally', 'know', 'dragged', 'bit', 'like', 'first', 'half', 'slow', 'mean', 'seriously', 'even', 'anyway', 'second', 'half', 'tho', 'absolute', 'fire', 'cinematography', 'stunning', 'phenomenal', 'uh', 'story', 'ugh', 'weak', 'plot', 'know', 'maybe', 'feel', 'like', 'done', 'much', 'better', 'yeah', 'overall', 'bad', 'bey', 'h', 'u', 'story', 'would', 'recommend', 'maybe', 'love', 'good', 'otherwise']\n",
            "\n",
            "Stemmed Words:\n",
            " ['oh', 'wow', 'like', 'total', 'know', 'drag', 'bit', 'like', 'first', 'half', 'slow', 'mean', 'serious', 'even', 'anyway', 'second', 'half', 'tho', 'absolut', 'fire', 'cinematographi', 'stun', 'phenomen', 'uh', 'stori', 'ugh', 'weak', 'plot', 'know', 'mayb', 'feel', 'like', 'done', 'much', 'better', 'yeah', 'overal', 'bad', 'bey', 'h', 'u', 'stori', 'would', 'recommend', 'mayb', 'love', 'good', 'otherwis']\n",
            "\n",
            "Lemmatized Words:\n",
            " ['oh', 'wow', 'like', 'totally', 'know', 'dragged', 'bit', 'like', 'first', 'half', 'slow', 'mean', 'seriously', 'even', 'anyway', 'second', 'half', 'tho', 'absolute', 'fire', 'cinematography', 'stunning', 'phenomenal', 'uh', 'story', 'ugh', 'weak', 'plot', 'know', 'maybe', 'feel', 'like', 'done', 'much', 'better', 'yeah', 'overall', 'bad', 'bey', 'h', 'u', 'story', 'would', 'recommend', 'maybe', 'love', 'good', 'otherwise']\n"
          ]
        }
      ]
    }
  ]
}